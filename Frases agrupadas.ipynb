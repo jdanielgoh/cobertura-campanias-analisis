{
 "cells": [
  {
   "cell_type": "code",
   "execution_count": 1,
   "id": "58d13356",
   "metadata": {},
   "outputs": [],
   "source": [
    "import pandas as pd \n",
    "import numpy as np "
   ]
  },
  {
   "cell_type": "code",
   "execution_count": 2,
   "id": "46cdcc66",
   "metadata": {},
   "outputs": [],
   "source": [
    "datos = pd.read_excel(\"datos/Base_Datos_Presidencia_Cam (3).xlsx\",skiprows=12,sheet_name=0)\n",
    "\n",
    "datos.TIPO_VALORACION=datos.TIPO_VALORACION.map({\"SIN VALORACIÓN\":\"S\",\"POSITIVA\":\"P\",\"NEGATIVA\":\"N\"})"
   ]
  },
  {
   "cell_type": "code",
   "execution_count": 3,
   "id": "d45e24a6",
   "metadata": {},
   "outputs": [],
   "source": [
    "def tiempoSegundos(x):\n",
    "    tiempo_separado = x.split(\":\")\n",
    "    segundos = 3600 * int(tiempo_separado[0]) + 60 * int(tiempo_separado[1]) + int(tiempo_separado[2])\n",
    "    return segundos"
   ]
  },
  {
   "cell_type": "code",
   "execution_count": 4,
   "id": "8d7ee1f4",
   "metadata": {
    "scrolled": false
   },
   "outputs": [
    {
     "data": {
      "text/plain": [
       "array(['01/03/2024', '02/03/2024', '03/03/2024', '04/03/2024',\n",
       "       '05/03/2024', '06/03/2024', '07/03/2024', '08/03/2024',\n",
       "       '09/03/2024', '10/03/2024', '11/03/2024', '12/03/2024',\n",
       "       '13/03/2024', '14/03/2024', '15/03/2024', '16/03/2024',\n",
       "       '17/03/2024', '18/03/2024', '19/03/2024', '20/03/2024',\n",
       "       '21/03/2024', '22/03/2024', '23/03/2024', '24/03/2024',\n",
       "       '25/03/2024', '26/03/2024', '27/03/2024', '28/03/2024',\n",
       "       '29/03/2024', '30/03/2024', '31/03/2024', '01/04/2024',\n",
       "       '02/04/2024', '03/04/2024', '04/04/2024', '05/04/2024',\n",
       "       '06/04/2024', '07/04/2024', '08/04/2024', '09/04/2024',\n",
       "       '10/04/2024', '11/04/2024', '12/04/2024', '13/04/2024',\n",
       "       '14/04/2024', '15/04/2024', '16/04/2024', '17/04/2024',\n",
       "       '18/04/2024', '19/04/2024', '20/04/2024', '21/04/2024',\n",
       "       '22/04/2024', '23/04/2024', '24/04/2024', '25/04/2024',\n",
       "       '26/04/2024', '27/04/2024', '28/04/2024', '29/04/2024',\n",
       "       '30/04/2024', '01/05/2024', '02/05/2024', '03/05/2024',\n",
       "       '04/05/2024', '05/05/2024', '06/05/2024', '07/05/2024',\n",
       "       '08/05/2024', '09/05/2024', '10/05/2024', '11/05/2024',\n",
       "       '12/05/2024', '13/05/2024', '14/05/2024', '15/05/2024',\n",
       "       '16/05/2024', '17/05/2024', '18/05/2024', '19/05/2024',\n",
       "       '20/05/2024', '21/05/2024', '22/05/2024', '23/05/2024',\n",
       "       '24/05/2024', '25/05/2024', '26/05/2024'], dtype=object)"
      ]
     },
     "execution_count": 4,
     "metadata": {},
     "output_type": "execute_result"
    }
   ],
   "source": [
    "\n",
    "datos[\"DURACION_SEGUNDOS\"] = datos.DURACION_PIEZA.apply(lambda x : tiempoSegundos(x))\n",
    "\n",
    "datos[\"DURACION_MINUTOS\"] = datos[\"DURACION_SEGUNDOS\"]/60\n",
    "datos[\"Fecha\"]=pd.to_datetime(datos.FECHA_TESTIGO, format=\"%d/%m/%Y\")\n",
    "datos.sort_values(by=\"Fecha\").FECHA_TESTIGO.unique()"
   ]
  },
  {
   "cell_type": "code",
   "execution_count": 5,
   "id": "57747a78",
   "metadata": {},
   "outputs": [],
   "source": [
    "datos[\"FRASE_ESTEREOTIPO_GENERAL\"]=datos[[\"PRESENCIA DE ESTEREOTIPOS\",\"FRASE_ESTEREOTIPO_VULNERABILIDAD\"]].apply(lambda x : x.dropna().unique()[0] if len(x.dropna().unique()) else np.nan,axis=1)"
   ]
  },
  {
   "cell_type": "code",
   "execution_count": 6,
   "id": "1146db3b",
   "metadata": {},
   "outputs": [],
   "source": [
    "datos[\"FRASE_POSITIVA\"] = datos.apply(lambda x :  x.ADJETIVO_FRASE if str(x.TIPO_VALORACION)==\"P\" else np.nan,axis=1)\n",
    "\n",
    "datos[\"FRASE_NEGATIVA\"] = datos.apply(lambda x :  x.ADJETIVO_FRASE if str(x.TIPO_VALORACION)==\"N\" else np.nan,axis=1)"
   ]
  },
  {
   "cell_type": "code",
   "execution_count": 7,
   "id": "36521d11",
   "metadata": {},
   "outputs": [],
   "source": [
    "def concatenar_frases(frases):\n",
    "    frases_no_vacias = list(set(frase for frase in frases if frase.strip()))\n",
    "    return '... <br/>'.join(frases_no_vacias) if frases_no_vacias else np.nan"
   ]
  },
  {
   "cell_type": "code",
   "execution_count": 9,
   "id": "877c45d8",
   "metadata": {},
   "outputs": [],
   "source": [
    "def concatenar_frases_2(frases):\n",
    "\n",
    "    frases_no_vacias = list(set(frase for frase in frases.fillna(\"\") if frase.strip()))\n",
    "    return '... <br/>'.join(frases_no_vacias) if frases_no_vacias else np.nan"
   ]
  },
  {
   "cell_type": "code",
   "execution_count": 10,
   "id": "bba42811",
   "metadata": {},
   "outputs": [],
   "source": [
    "datum = datos.sort_values(by=\"Fecha\",ascending=False)[[\"NOMBRE_NOTICIERO\",\"ID_PIEZA_INFORMATIVA\",\"FECHA_TESTIGO\",\"TIPO_VALORACION\",\"CANDIDATO\",\"DURACION_MINUTOS\",\"FRASE_ESTEREOTIPO_GENERAL\",\"FRASE_POSITIVA\",\"FRASE_NEGATIVA\",\"FRASE_ENFOQUE\"]]\n",
    "\n",
    "datos_frases = datum.loc[datum[[\"FRASE_ESTEREOTIPO_GENERAL\",\"FRASE_POSITIVA\",\"FRASE_NEGATIVA\",\"FRASE_ENFOQUE\"]].dropna(how=\"all\").index]\n",
    "datos_sin_frases = datum.loc[[i for i in  datum.index if i not in datos_frases.index]]\n",
    "\n",
    "datos_frases[[\"FRASE_ESTEREOTIPO_GENERAL\",\"FRASE_POSITIVA\",\"FRASE_NEGATIVA\",\"FRASE_ENFOQUE\"]] = datos_frases[[\"FRASE_ESTEREOTIPO_GENERAL\",\"FRASE_POSITIVA\",\"FRASE_NEGATIVA\",\"FRASE_ENFOQUE\"]].fillna(\"\")\n",
    "datos_sin_frases[[\"FRASE_ESTEREOTIPO_GENERAL\",\"FRASE_POSITIVA\",\"FRASE_NEGATIVA\",\"FRASE_ENFOQUE\"]] = datos_sin_frases[[\"FRASE_ESTEREOTIPO_GENERAL\",\"FRASE_POSITIVA\",\"FRASE_NEGATIVA\",\"FRASE_ENFOQUE\"]].fillna(\"\")\n",
    "\n",
    "datum_frases_agrupadas = datos_frases.groupby([\"NOMBRE_NOTICIERO\",'ID_PIEZA_INFORMATIVA', 'FECHA_TESTIGO',\n",
    "       'TIPO_VALORACION', 'CANDIDATO', 'DURACION_MINUTOS']).agg(concatenar_frases).reset_index()\n",
    "datum_frases_agrupadas = datum_frases_agrupadas.groupby([\"NOMBRE_NOTICIERO\",'ID_PIEZA_INFORMATIVA', 'FECHA_TESTIGO','TIPO_VALORACION', 'CANDIDATO'])\n",
    "datum_frases_agrupadas = datum_frases_agrupadas.agg({'FRASE_ESTEREOTIPO_GENERAL':concatenar_frases_2, 'FRASE_POSITIVA':concatenar_frases_2, 'FRASE_NEGATIVA':concatenar_frases_2,'FRASE_ENFOQUE':concatenar_frases_2,'DURACION_MINUTOS':sum},axis=1).reset_index()\n",
    "\n",
    "\n",
    "\n",
    "\n",
    "datum_sin_frases_agrupadas=datos_sin_frases.groupby([\"NOMBRE_NOTICIERO\",\"ID_PIEZA_INFORMATIVA\",\"FECHA_TESTIGO\",\"TIPO_VALORACION\",\"CANDIDATO\",\"FRASE_ESTEREOTIPO_GENERAL\",\"FRASE_POSITIVA\",\"FRASE_NEGATIVA\",\"FRASE_ENFOQUE\"]).sum().reset_index()\n",
    "\n",
    "ladata = pd.concat([datum_frases_agrupadas,datum_sin_frases_agrupadas])\n",
    "\n",
    "dict_not_id = {}\n",
    "dict_id_not ={}\n",
    "a=1\n",
    "for noticiero in ladata.NOMBRE_NOTICIERO.unique():\n",
    "    dict_not_id[noticiero] = a\n",
    "    dict_id_not[a] = noticiero\n",
    "    a+=1\n",
    "ladata[\"ID_NOTICIERO\"] = ladata.NOMBRE_NOTICIERO.map(dict_not_id)\n",
    "\n",
    "ladata.to_csv(\"datos_limpios/lista_medios.csv\",index=False)\n",
    "pd.DataFrame([dict_id_not]).T[0].to_json(\"datos_limpios/diccionario_medios.json\")\n"
   ]
  },
  {
   "cell_type": "code",
   "execution_count": null,
   "id": "d5faefe9",
   "metadata": {},
   "outputs": [],
   "source": [
    "datum_frases_agrupadas.shape"
   ]
  },
  {
   "cell_type": "code",
   "execution_count": null,
   "id": "7a9595ec",
   "metadata": {},
   "outputs": [],
   "source": [
    "datum_frases_agrupadas.columns"
   ]
  },
  {
   "cell_type": "code",
   "execution_count": null,
   "id": "ccce304b",
   "metadata": {},
   "outputs": [],
   "source": []
  },
  {
   "cell_type": "code",
   "execution_count": null,
   "id": "54207e17",
   "metadata": {},
   "outputs": [],
   "source": [
    "ef = datum_frases_agrupadas.groupby([\"NOMBRE_NOTICIERO\",'ID_PIEZA_INFORMATIVA', 'FECHA_TESTIGO','TIPO_VALORACION', 'CANDIDATO'])\n",
    "ef = ef.agg({'FRASE_ESTEREOTIPO_GENERAL':concatenar_frases_2, 'FRASE_POSITIVA':concatenar_frases_2, 'FRASE_NEGATIVA':concatenar_frases_2,'FRASE_ENFOQUE':concatenar_frases_2,'DURACION_MINUTOS':sum},axis=0).reset_index()\n",
    "\n",
    "\n",
    "ef[ef.FRASE_POSITIVA.notna()]"
   ]
  },
  {
   "cell_type": "code",
   "execution_count": null,
   "id": "bfed2a63",
   "metadata": {},
   "outputs": [],
   "source": []
  },
  {
   "cell_type": "code",
   "execution_count": null,
   "id": "b7bf1c8c",
   "metadata": {},
   "outputs": [],
   "source": []
  }
 ],
 "metadata": {
  "kernelspec": {
   "display_name": "Python 3",
   "language": "python",
   "name": "python3"
  },
  "language_info": {
   "codemirror_mode": {
    "name": "ipython",
    "version": 3
   },
   "file_extension": ".py",
   "mimetype": "text/x-python",
   "name": "python",
   "nbconvert_exporter": "python",
   "pygments_lexer": "ipython3",
   "version": "3.8.8"
  }
 },
 "nbformat": 4,
 "nbformat_minor": 5
}
