{
 "cells": [
  {
   "cell_type": "code",
   "execution_count": 1,
   "id": "58d13356",
   "metadata": {},
   "outputs": [],
   "source": [
    "import pandas as pd \n",
    "import numpy as np "
   ]
  },
  {
   "cell_type": "code",
   "execution_count": 2,
   "id": "46cdcc66",
   "metadata": {},
   "outputs": [],
   "source": [
    "datos = pd.read_excel(\"datos/Base_Datos_Presidencia_Cam (1).xlsx\",skiprows=12,sheet_name=0)\n",
    "\n",
    "datos.TIPO_VALORACION=datos.TIPO_VALORACION.map({\"SIN VALORACIÓN\":\"S\",\"POSITIVA\":\"P\",\"NEGATIVA\":\"N\"})"
   ]
  },
  {
   "cell_type": "code",
   "execution_count": 3,
   "id": "d45e24a6",
   "metadata": {},
   "outputs": [],
   "source": [
    "def tiempoSegundos(x):\n",
    "    tiempo_separado = x.split(\":\")\n",
    "    segundos = 3600 * int(tiempo_separado[0]) + 60 * int(tiempo_separado[1]) + int(tiempo_separado[2])\n",
    "    return segundos"
   ]
  },
  {
   "cell_type": "code",
   "execution_count": 4,
   "id": "8d7ee1f4",
   "metadata": {
    "scrolled": false
   },
   "outputs": [],
   "source": [
    "\n",
    "datos[\"DURACION_SEGUNDOS\"] = datos.DURACION_PIEZA.apply(lambda x : tiempoSegundos(x))\n",
    "\n",
    "datos[\"DURACION_MINUTOS\"] = datos[\"DURACION_SEGUNDOS\"]/60\n",
    "datos[\"Fecha\"]=pd.to_datetime(datos.FECHA_TESTIGO, format=\"%d/%m/%Y\")\n",
    "datos.sort_values(by=\"Fecha\").FECHA_TESTIGO.unique()"
   ]
  },
  {
   "cell_type": "code",
   "execution_count": 8,
   "id": "57747a78",
   "metadata": {},
   "outputs": [],
   "source": [
    "datos[\"FRASE_ESTEREOTIPO_GENERAL\"]=datos[[\"PRESENCIA DE ESTEREOTIPOS\",\"FRASE_ESTEREOTIPO_VULNERABILIDAD\"]].apply(lambda x : x.dropna().unique()[0] if len(x.dropna().unique()) else np.nan,axis=1)"
   ]
  },
  {
   "cell_type": "code",
   "execution_count": 13,
   "id": "1146db3b",
   "metadata": {},
   "outputs": [],
   "source": [
    "datos[\"FRASE_POSITIVA\"] = datos.apply(lambda x :  x.ADJETIVO_FRASE if str(x.TIPO_VALORACION)==\"P\" else np.nan,axis=1)\n",
    "\n",
    "datos[\"FRASE_NEGATIVA\"] = datos.apply(lambda x :  x.ADJETIVO_FRASE if str(x.TIPO_VALORACION)==\"N\" else np.nan,axis=1)"
   ]
  },
  {
   "cell_type": "code",
   "execution_count": 14,
   "id": "36521d11",
   "metadata": {},
   "outputs": [],
   "source": [
    "def concatenar_frases(frases):\n",
    "    frases_no_vacias = list(set(frase for frase in frases if frase.strip()))\n",
    "    return '... <br/>'.join(frases_no_vacias) if frases_no_vacias else np.nan"
   ]
  },
  {
   "cell_type": "code",
   "execution_count": 58,
   "id": "bba42811",
   "metadata": {},
   "outputs": [],
   "source": [
    "datum = datos.sort_values(by=\"Fecha\",ascending=False)[[\"NOMBRE_NOTICIERO\",\"ID_PIEZA_INFORMATIVA\",\"FECHA_TESTIGO\",\"TIPO_VALORACION\",\"CANDIDATO\",\"DURACION_MINUTOS\",\"FRASE_ESTEREOTIPO_GENERAL\",\"FRASE_POSITIVA\",\"FRASE_NEGATIVA\",\"FRASE_ENFOQUE\"]]\n",
    "\n",
    "datos_frases = datum.loc[datum[[\"FRASE_ESTEREOTIPO_GENERAL\",\"FRASE_POSITIVA\",\"FRASE_NEGATIVA\",\"FRASE_ENFOQUE\"]].dropna(how=\"all\").index]\n",
    "datos_sin_frases = datum.loc[[i for i in  datum.index if i not in datos_frases.index]]\n",
    "\n",
    "datos_frases[[\"FRASE_ESTEREOTIPO_GENERAL\",\"FRASE_POSITIVA\",\"FRASE_NEGATIVA\",\"FRASE_ENFOQUE\"]] = datos_frases[[\"FRASE_ESTEREOTIPO_GENERAL\",\"FRASE_POSITIVA\",\"FRASE_NEGATIVA\",\"FRASE_ENFOQUE\"]].fillna(\"\")\n",
    "datos_sin_frases[[\"FRASE_ESTEREOTIPO_GENERAL\",\"FRASE_POSITIVA\",\"FRASE_NEGATIVA\",\"FRASE_ENFOQUE\"]] = datos_sin_frases[[\"FRASE_ESTEREOTIPO_GENERAL\",\"FRASE_POSITIVA\",\"FRASE_NEGATIVA\",\"FRASE_ENFOQUE\"]].fillna(\"\")\n",
    "\n",
    "datum_frases_agrupadas = datos_frases.groupby([\"NOMBRE_NOTICIERO\",'ID_PIEZA_INFORMATIVA', 'FECHA_TESTIGO',\n",
    "       'TIPO_VALORACION', 'CANDIDATO', 'DURACION_MINUTOS']).agg(concatenar_frases).reset_index()\n",
    "\n",
    "datum_sin_frases_agrupadas=datos_sin_frases.groupby([\"NOMBRE_NOTICIERO\",\"ID_PIEZA_INFORMATIVA\",\"FECHA_TESTIGO\",\"TIPO_VALORACION\",\"CANDIDATO\",\"FRASE_ESTEREOTIPO_GENERAL\",\"FRASE_POSITIVA\",\"FRASE_NEGATIVA\",\"FRASE_ENFOQUE\"]).sum().reset_index()\n",
    "\n",
    "ladata = pd.concat([datum_frases_agrupadas,datum_sin_frases_agrupadas])\n",
    "\n",
    "dict_not_id = {}\n",
    "dict_id_not ={}\n",
    "a=1\n",
    "for noticiero in ladata.NOMBRE_NOTICIERO.unique():\n",
    "    dict_not_id[noticiero] = a\n",
    "    dict_id_not[a] = noticiero\n",
    "    a+=1\n",
    "ladata[\"ID_NOTICIERO\"] = ladata.NOMBRE_NOTICIERO.map(dict_not_id)\n",
    "\n",
    "ladata.to_csv(\"datos_limpios/lista_medios.csv\",index=False)\n",
    "pd.DataFrame([dict_id_not]).T[0].to_json(\"datos_limpios/diccionario_medios.json\")\n"
   ]
  }
 ],
 "metadata": {
  "kernelspec": {
   "display_name": "Python 3",
   "language": "python",
   "name": "python3"
  },
  "language_info": {
   "codemirror_mode": {
    "name": "ipython",
    "version": 3
   },
   "file_extension": ".py",
   "mimetype": "text/x-python",
   "name": "python",
   "nbconvert_exporter": "python",
   "pygments_lexer": "ipython3",
   "version": "3.8.8"
  }
 },
 "nbformat": 4,
 "nbformat_minor": 5
}
