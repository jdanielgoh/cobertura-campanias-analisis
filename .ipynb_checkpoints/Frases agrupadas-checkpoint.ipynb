{
 "cells": [
  {
   "cell_type": "code",
   "execution_count": 1,
   "id": "58d13356",
   "metadata": {},
   "outputs": [],
   "source": [
    "import pandas as pd \n",
    "import numpy as np "
   ]
  },
  {
   "cell_type": "code",
   "execution_count": 2,
   "id": "46cdcc66",
   "metadata": {},
   "outputs": [],
   "source": [
    "datos = pd.read_excel(\"datos/Base_Datos_Presidencia_Cam (1).xlsx\",skiprows=12,sheet_name=0)\n",
    "\n",
    "datos.TIPO_VALORACION=datos.TIPO_VALORACION.map({\"SIN VALORACIÓN\":\"S\",\"POSITIVA\":\"P\",\"NEGATIVA\":\"N\"})"
   ]
  },
  {
   "cell_type": "code",
   "execution_count": null,
   "id": "820d4de6",
   "metadata": {},
   "outputs": [],
   "source": []
  },
  {
   "cell_type": "code",
   "execution_count": 3,
   "id": "d45e24a6",
   "metadata": {},
   "outputs": [],
   "source": [
    "def tiempoSegundos(x):\n",
    "    tiempo_separado = x.split(\":\")\n",
    "    segundos = 3600 * int(tiempo_separado[0]) + 60 * int(tiempo_separado[1]) + int(tiempo_separado[2])\n",
    "    return segundos"
   ]
  },
  {
   "cell_type": "code",
   "execution_count": 4,
   "id": "8d7ee1f4",
   "metadata": {
    "scrolled": false
   },
   "outputs": [],
   "source": [
    "\n",
    "datos[\"DURACION_SEGUNDOS\"] = datos.DURACION_PIEZA.apply(lambda x : tiempoSegundos(x))\n",
    "\n",
    "datos[\"DURACION_MINUTOS\"] = datos[\"DURACION_SEGUNDOS\"]/60\n"
   ]
  },
  {
   "cell_type": "code",
   "execution_count": 5,
   "id": "fe57b5a8",
   "metadata": {},
   "outputs": [
    {
     "data": {
      "text/html": [
       "<div>\n",
       "<style scoped>\n",
       "    .dataframe tbody tr th:only-of-type {\n",
       "        vertical-align: middle;\n",
       "    }\n",
       "\n",
       "    .dataframe tbody tr th {\n",
       "        vertical-align: top;\n",
       "    }\n",
       "\n",
       "    .dataframe thead tr th {\n",
       "        text-align: left;\n",
       "    }\n",
       "\n",
       "    .dataframe thead tr:last-of-type th {\n",
       "        text-align: right;\n",
       "    }\n",
       "</style>\n",
       "<table border=\"1\" class=\"dataframe\">\n",
       "  <thead>\n",
       "    <tr>\n",
       "      <th></th>\n",
       "      <th colspan=\"4\" halign=\"left\">DURACION_SEGUNDOS</th>\n",
       "    </tr>\n",
       "    <tr>\n",
       "      <th>CANDIDATO</th>\n",
       "      <th>BXGR</th>\n",
       "      <th>CSP</th>\n",
       "      <th>JAM</th>\n",
       "      <th>SE</th>\n",
       "    </tr>\n",
       "    <tr>\n",
       "      <th>TIPO_VALORACION</th>\n",
       "      <th></th>\n",
       "      <th></th>\n",
       "      <th></th>\n",
       "      <th></th>\n",
       "    </tr>\n",
       "  </thead>\n",
       "  <tbody>\n",
       "    <tr>\n",
       "      <th>N</th>\n",
       "      <td>58040</td>\n",
       "      <td>94571</td>\n",
       "      <td>58196</td>\n",
       "      <td>8521</td>\n",
       "    </tr>\n",
       "    <tr>\n",
       "      <th>P</th>\n",
       "      <td>50347</td>\n",
       "      <td>60422</td>\n",
       "      <td>20102</td>\n",
       "      <td>2086</td>\n",
       "    </tr>\n",
       "    <tr>\n",
       "      <th>S</th>\n",
       "      <td>3040331</td>\n",
       "      <td>3221022</td>\n",
       "      <td>1171255</td>\n",
       "      <td>699953</td>\n",
       "    </tr>\n",
       "  </tbody>\n",
       "</table>\n",
       "</div>"
      ],
      "text/plain": [
       "                DURACION_SEGUNDOS                          \n",
       "CANDIDATO                    BXGR      CSP      JAM      SE\n",
       "TIPO_VALORACION                                            \n",
       "N                           58040    94571    58196    8521\n",
       "P                           50347    60422    20102    2086\n",
       "S                         3040331  3221022  1171255  699953"
      ]
     },
     "execution_count": 5,
     "metadata": {},
     "output_type": "execute_result"
    }
   ],
   "source": [
    "datos[[\"TIPO_VALORACION\",\"CANDIDATO\",\"DURACION_SEGUNDOS\"]].groupby([\"TIPO_VALORACION\",\"CANDIDATO\"]).sum().unstack()\n",
    "\n",
    "\n"
   ]
  },
  {
   "cell_type": "code",
   "execution_count": 6,
   "id": "cc231133",
   "metadata": {},
   "outputs": [],
   "source": [
    "datos[\"Fecha\"]=pd.to_datetime(datos.FECHA_TESTIGO, format=\"%d/%m/%Y\")"
   ]
  },
  {
   "cell_type": "code",
   "execution_count": 18,
   "id": "55091cb6",
   "metadata": {
    "scrolled": false
   },
   "outputs": [
    {
     "data": {
      "text/plain": [
       "array(['01/03/2024', '02/03/2024', '03/03/2024', '04/03/2024',\n",
       "       '05/03/2024', '06/03/2024', '07/03/2024', '08/03/2024',\n",
       "       '09/03/2024', '10/03/2024', '11/03/2024', '12/03/2024',\n",
       "       '13/03/2024', '14/03/2024', '15/03/2024', '16/03/2024',\n",
       "       '17/03/2024', '18/03/2024', '19/03/2024', '20/03/2024',\n",
       "       '21/03/2024', '22/03/2024', '23/03/2024', '24/03/2024',\n",
       "       '25/03/2024', '26/03/2024', '27/03/2024', '28/03/2024',\n",
       "       '29/03/2024', '30/03/2024', '31/03/2024', '01/04/2024',\n",
       "       '02/04/2024', '03/04/2024', '04/04/2024', '05/04/2024',\n",
       "       '06/04/2024', '07/04/2024', '08/04/2024', '09/04/2024',\n",
       "       '10/04/2024', '11/04/2024', '12/04/2024', '13/04/2024',\n",
       "       '14/04/2024', '15/04/2024', '16/04/2024', '17/04/2024',\n",
       "       '18/04/2024', '19/04/2024', '20/04/2024', '21/04/2024',\n",
       "       '22/04/2024', '23/04/2024', '24/04/2024', '25/04/2024',\n",
       "       '26/04/2024', '27/04/2024', '28/04/2024', '29/04/2024',\n",
       "       '30/04/2024', '01/05/2024', '02/05/2024', '03/05/2024',\n",
       "       '04/05/2024', '05/05/2024', '06/05/2024', '07/05/2024',\n",
       "       '08/05/2024', '09/05/2024', '10/05/2024', '11/05/2024',\n",
       "       '12/05/2024'], dtype=object)"
      ]
     },
     "execution_count": 18,
     "metadata": {},
     "output_type": "execute_result"
    }
   ],
   "source": [
    "datos.sort_values(by=\"Fecha\").FECHA_TESTIGO.unique()"
   ]
  },
  {
   "cell_type": "code",
   "execution_count": 8,
   "id": "57747a78",
   "metadata": {},
   "outputs": [],
   "source": [
    "datos[\"FRASE_ESTEREOTIPO_GENERAL\"]=datos[[\"PRESENCIA DE ESTEREOTIPOS\",\"FRASE_ESTEREOTIPO_VULNERABILIDAD\"]].apply(lambda x : x.dropna().unique()[0] if len(x.dropna().unique()) else np.nan,axis=1)\n",
    "\n",
    "\n"
   ]
  },
  {
   "cell_type": "code",
   "execution_count": 9,
   "id": "1146db3b",
   "metadata": {},
   "outputs": [],
   "source": [
    "datos[\"FRASE_POSITIVA\"] = datos.apply(lambda x :  x.ADJETIVO_FRASE if str(x.TIPO_VALORACION)==\"P\" else np.nan,axis=1)\n",
    "\n",
    "datos[\"FRASE_NEGATIVA\"] = datos.apply(lambda x :  x.ADJETIVO_FRASE if str(x.TIPO_VALORACION)==\"N\" else np.nan,axis=1)\n",
    "\n",
    "\n"
   ]
  },
  {
   "cell_type": "code",
   "execution_count": 15,
   "id": "36521d11",
   "metadata": {},
   "outputs": [
    {
     "data": {
      "text/html": [
       "<div>\n",
       "<style scoped>\n",
       "    .dataframe tbody tr th:only-of-type {\n",
       "        vertical-align: middle;\n",
       "    }\n",
       "\n",
       "    .dataframe tbody tr th {\n",
       "        vertical-align: top;\n",
       "    }\n",
       "\n",
       "    .dataframe thead th {\n",
       "        text-align: right;\n",
       "    }\n",
       "</style>\n",
       "<table border=\"1\" class=\"dataframe\">\n",
       "  <thead>\n",
       "    <tr style=\"text-align: right;\">\n",
       "      <th></th>\n",
       "      <th>ID_NOTICIERO</th>\n",
       "      <th>FECHA_TESTIGO</th>\n",
       "      <th>TIPO_VALORACION</th>\n",
       "      <th>CANDIDATO</th>\n",
       "      <th>DURACION_MINUTOS</th>\n",
       "      <th>FRASE_ESTEREOTIPO_GENERAL</th>\n",
       "      <th>FRASE_POSITIVA</th>\n",
       "      <th>FRASE_NEGATIVA</th>\n",
       "      <th>FRASE_ENFOQUE</th>\n",
       "    </tr>\n",
       "  </thead>\n",
       "  <tbody>\n",
       "    <tr>\n",
       "      <th>173421</th>\n",
       "      <td>433</td>\n",
       "      <td>12/05/2024</td>\n",
       "      <td>S</td>\n",
       "      <td>BXGR</td>\n",
       "      <td>0.266667</td>\n",
       "      <td>NaN</td>\n",
       "      <td>NaN</td>\n",
       "      <td>NaN</td>\n",
       "      <td>NaN</td>\n",
       "    </tr>\n",
       "    <tr>\n",
       "      <th>173325</th>\n",
       "      <td>147</td>\n",
       "      <td>12/05/2024</td>\n",
       "      <td>S</td>\n",
       "      <td>SE</td>\n",
       "      <td>0.100000</td>\n",
       "      <td>NaN</td>\n",
       "      <td>NaN</td>\n",
       "      <td>NaN</td>\n",
       "      <td>NaN</td>\n",
       "    </tr>\n",
       "    <tr>\n",
       "      <th>173299</th>\n",
       "      <td>44</td>\n",
       "      <td>12/05/2024</td>\n",
       "      <td>S</td>\n",
       "      <td>JAM</td>\n",
       "      <td>0.550000</td>\n",
       "      <td>NaN</td>\n",
       "      <td>NaN</td>\n",
       "      <td>NaN</td>\n",
       "      <td>NaN</td>\n",
       "    </tr>\n",
       "    <tr>\n",
       "      <th>173298</th>\n",
       "      <td>44</td>\n",
       "      <td>12/05/2024</td>\n",
       "      <td>S</td>\n",
       "      <td>CSP</td>\n",
       "      <td>0.633333</td>\n",
       "      <td>NaN</td>\n",
       "      <td>NaN</td>\n",
       "      <td>NaN</td>\n",
       "      <td>NaN</td>\n",
       "    </tr>\n",
       "    <tr>\n",
       "      <th>173297</th>\n",
       "      <td>44</td>\n",
       "      <td>12/05/2024</td>\n",
       "      <td>S</td>\n",
       "      <td>BXGR</td>\n",
       "      <td>0.583333</td>\n",
       "      <td>NaN</td>\n",
       "      <td>NaN</td>\n",
       "      <td>NaN</td>\n",
       "      <td>NaN</td>\n",
       "    </tr>\n",
       "    <tr>\n",
       "      <th>...</th>\n",
       "      <td>...</td>\n",
       "      <td>...</td>\n",
       "      <td>...</td>\n",
       "      <td>...</td>\n",
       "      <td>...</td>\n",
       "      <td>...</td>\n",
       "      <td>...</td>\n",
       "      <td>...</td>\n",
       "      <td>...</td>\n",
       "    </tr>\n",
       "    <tr>\n",
       "      <th>2495</th>\n",
       "      <td>284</td>\n",
       "      <td>01/03/2024</td>\n",
       "      <td>S</td>\n",
       "      <td>BXGR</td>\n",
       "      <td>0.300000</td>\n",
       "      <td>NaN</td>\n",
       "      <td>NaN</td>\n",
       "      <td>NaN</td>\n",
       "      <td>NaN</td>\n",
       "    </tr>\n",
       "    <tr>\n",
       "      <th>2494</th>\n",
       "      <td>284</td>\n",
       "      <td>01/03/2024</td>\n",
       "      <td>S</td>\n",
       "      <td>JAM</td>\n",
       "      <td>0.300000</td>\n",
       "      <td>NaN</td>\n",
       "      <td>NaN</td>\n",
       "      <td>NaN</td>\n",
       "      <td>NaN</td>\n",
       "    </tr>\n",
       "    <tr>\n",
       "      <th>2493</th>\n",
       "      <td>282</td>\n",
       "      <td>01/03/2024</td>\n",
       "      <td>S</td>\n",
       "      <td>CSP</td>\n",
       "      <td>2.883333</td>\n",
       "      <td>NaN</td>\n",
       "      <td>NaN</td>\n",
       "      <td>NaN</td>\n",
       "      <td>NaN</td>\n",
       "    </tr>\n",
       "    <tr>\n",
       "      <th>2492</th>\n",
       "      <td>282</td>\n",
       "      <td>01/03/2024</td>\n",
       "      <td>S</td>\n",
       "      <td>BXGR</td>\n",
       "      <td>2.883333</td>\n",
       "      <td>NaN</td>\n",
       "      <td>NaN</td>\n",
       "      <td>NaN</td>\n",
       "      <td>NaN</td>\n",
       "    </tr>\n",
       "    <tr>\n",
       "      <th>0</th>\n",
       "      <td>1</td>\n",
       "      <td>01/03/2024</td>\n",
       "      <td>S</td>\n",
       "      <td>JAM</td>\n",
       "      <td>1.066667</td>\n",
       "      <td>NaN</td>\n",
       "      <td>NaN</td>\n",
       "      <td>NaN</td>\n",
       "      <td>NaN</td>\n",
       "    </tr>\n",
       "  </tbody>\n",
       "</table>\n",
       "<p>173422 rows × 9 columns</p>\n",
       "</div>"
      ],
      "text/plain": [
       "        ID_NOTICIERO FECHA_TESTIGO TIPO_VALORACION CANDIDATO  \\\n",
       "173421           433    12/05/2024               S      BXGR   \n",
       "173325           147    12/05/2024               S        SE   \n",
       "173299            44    12/05/2024               S       JAM   \n",
       "173298            44    12/05/2024               S       CSP   \n",
       "173297            44    12/05/2024               S      BXGR   \n",
       "...              ...           ...             ...       ...   \n",
       "2495             284    01/03/2024               S      BXGR   \n",
       "2494             284    01/03/2024               S       JAM   \n",
       "2493             282    01/03/2024               S       CSP   \n",
       "2492             282    01/03/2024               S      BXGR   \n",
       "0                  1    01/03/2024               S       JAM   \n",
       "\n",
       "        DURACION_MINUTOS FRASE_ESTEREOTIPO_GENERAL FRASE_POSITIVA  \\\n",
       "173421          0.266667                       NaN            NaN   \n",
       "173325          0.100000                       NaN            NaN   \n",
       "173299          0.550000                       NaN            NaN   \n",
       "173298          0.633333                       NaN            NaN   \n",
       "173297          0.583333                       NaN            NaN   \n",
       "...                  ...                       ...            ...   \n",
       "2495            0.300000                       NaN            NaN   \n",
       "2494            0.300000                       NaN            NaN   \n",
       "2493            2.883333                       NaN            NaN   \n",
       "2492            2.883333                       NaN            NaN   \n",
       "0               1.066667                       NaN            NaN   \n",
       "\n",
       "       FRASE_NEGATIVA FRASE_ENFOQUE  \n",
       "173421            NaN           NaN  \n",
       "173325            NaN           NaN  \n",
       "173299            NaN           NaN  \n",
       "173298            NaN           NaN  \n",
       "173297            NaN           NaN  \n",
       "...               ...           ...  \n",
       "2495              NaN           NaN  \n",
       "2494              NaN           NaN  \n",
       "2493              NaN           NaN  \n",
       "2492              NaN           NaN  \n",
       "0                 NaN           NaN  \n",
       "\n",
       "[173422 rows x 9 columns]"
      ]
     },
     "execution_count": 15,
     "metadata": {},
     "output_type": "execute_result"
    }
   ],
   "source": [
    "datum"
   ]
  },
  {
   "cell_type": "code",
   "execution_count": 14,
   "id": "ee9e8a35",
   "metadata": {},
   "outputs": [],
   "source": [
    "datum = datos.sort_values(by=\"Fecha\",ascending=False)[[\"ID_NOTICIERO\",\"FECHA_TESTIGO\",\"TIPO_VALORACION\",\"CANDIDATO\",\"DURACION_MINUTOS\",\"FRASE_ESTEREOTIPO_GENERAL\",\"FRASE_POSITIVA\",\"FRASE_NEGATIVA\",\"FRASE_ENFOQUE\"]]\n",
    "datum.groupby([\"ID_NOTICIERO\",\"FECHA_TESTIGO\",\"TIPO_VALORACION\",\"CANDIDATO\",\"FRASE_ESTEREOTIPO_GENERAL\",\"FRASE_POSITIVA\",\"FRASE_NEGATIVA\",\"FRASE_ENFOQUE\"],dropna=False).sum().reset_index().to_csv(\"datos_limpios/lista_medios.csv\",index=False)\n",
    "\n",
    "\n",
    "datos[[\"ID_NOTICIERO\",\"NOMBRE_NOTICIERO\"]].drop_duplicates().set_index(\"ID_NOTICIERO\").NOMBRE_NOTICIERO.to_json(\"datos_limpios/diccionario_medios.json\")\n"
   ]
  },
  {
   "cell_type": "code",
   "execution_count": 12,
   "id": "d6c9da52",
   "metadata": {},
   "outputs": [],
   "source": [
    "#datos.sort_values(by=\"Fecha\",ascending=False)[[\"ID_NOTICIERO\",\"FECHA_TESTIGO\",\"TIPO_VALORACION\",\"CANDIDATO\",\"DURACION_MINUTOS\",\"DESCRIPCION_ESTEREOTIPO_GENERAL\",\"DESCRIPCION_POSITIVA\",\"DESCRIPCION_NEGATIVA\",\"DESCRIPCION_ENFOQUE\"]].shape\n",
    "\n"
   ]
  },
  {
   "cell_type": "code",
   "execution_count": 13,
   "id": "82e86820",
   "metadata": {},
   "outputs": [
    {
     "ename": "KeyError",
     "evalue": "\"['DESCRIPCION_POSITIVA', 'DESCRIPCION_ESTEREOTIPO_GENERAL', 'DESCRIPCION_NEGATIVA'] not in index\"",
     "output_type": "error",
     "traceback": [
      "\u001b[0;31m---------------------------------------------------------------------------\u001b[0m",
      "\u001b[0;31mKeyError\u001b[0m                                  Traceback (most recent call last)",
      "\u001b[0;32m<ipython-input-13-9ea67ac1becb>\u001b[0m in \u001b[0;36m<module>\u001b[0;34m\u001b[0m\n\u001b[0;32m----> 1\u001b[0;31m \u001b[0mdatum\u001b[0m \u001b[0;34m=\u001b[0m\u001b[0mdatos\u001b[0m\u001b[0;34m.\u001b[0m\u001b[0msort_values\u001b[0m\u001b[0;34m(\u001b[0m\u001b[0mby\u001b[0m\u001b[0;34m=\u001b[0m\u001b[0;34m\"Fecha\"\u001b[0m\u001b[0;34m,\u001b[0m\u001b[0mascending\u001b[0m\u001b[0;34m=\u001b[0m\u001b[0;32mFalse\u001b[0m\u001b[0;34m)\u001b[0m\u001b[0;34m[\u001b[0m\u001b[0;34m[\u001b[0m\u001b[0;34m\"ID_NOTICIERO\"\u001b[0m\u001b[0;34m,\u001b[0m\u001b[0;34m\"FECHA_TESTIGO\"\u001b[0m\u001b[0;34m,\u001b[0m\u001b[0;34m\"TIPO_VALORACION\"\u001b[0m\u001b[0;34m,\u001b[0m\u001b[0;34m\"CANDIDATO\"\u001b[0m\u001b[0;34m,\u001b[0m\u001b[0;34m\"DURACION_MINUTOS\"\u001b[0m\u001b[0;34m,\u001b[0m\u001b[0;34m\"DESCRIPCION_ESTEREOTIPO_GENERAL\"\u001b[0m\u001b[0;34m,\u001b[0m\u001b[0;34m\"DESCRIPCION_POSITIVA\"\u001b[0m\u001b[0;34m,\u001b[0m\u001b[0;34m\"DESCRIPCION_NEGATIVA\"\u001b[0m\u001b[0;34m,\u001b[0m\u001b[0;34m\"DESCRIPCION_ENFOQUE\"\u001b[0m\u001b[0;34m]\u001b[0m\u001b[0;34m]\u001b[0m\u001b[0;34m\u001b[0m\u001b[0;34m\u001b[0m\u001b[0m\n\u001b[0m\u001b[1;32m      2\u001b[0m \u001b[0;34m\u001b[0m\u001b[0m\n\u001b[1;32m      3\u001b[0m datum.groupby(['ID_NOTICIERO', 'FECHA_TESTIGO', 'TIPO_VALORACION', 'CANDIDATO',\n\u001b[1;32m      4\u001b[0m         \u001b[0;34m'DESCRIPCION_ESTEREOTIPO_GENERAL'\u001b[0m\u001b[0;34m,\u001b[0m\u001b[0;34m\u001b[0m\u001b[0;34m\u001b[0m\u001b[0m\n\u001b[1;32m      5\u001b[0m        'DESCRIPCION_POSITIVA', 'DESCRIPCION_NEGATIVA', 'DESCRIPCION_ENFOQUE'],dropna=False).sum().reset_index().to_csv(\"datos_limpios/lista_medios.csv\",index=False)\n",
      "\u001b[0;32m~/opt/anaconda3/lib/python3.8/site-packages/pandas/core/frame.py\u001b[0m in \u001b[0;36m__getitem__\u001b[0;34m(self, key)\u001b[0m\n\u001b[1;32m   3028\u001b[0m             \u001b[0;32mif\u001b[0m \u001b[0mis_iterator\u001b[0m\u001b[0;34m(\u001b[0m\u001b[0mkey\u001b[0m\u001b[0;34m)\u001b[0m\u001b[0;34m:\u001b[0m\u001b[0;34m\u001b[0m\u001b[0;34m\u001b[0m\u001b[0m\n\u001b[1;32m   3029\u001b[0m                 \u001b[0mkey\u001b[0m \u001b[0;34m=\u001b[0m \u001b[0mlist\u001b[0m\u001b[0;34m(\u001b[0m\u001b[0mkey\u001b[0m\u001b[0;34m)\u001b[0m\u001b[0;34m\u001b[0m\u001b[0;34m\u001b[0m\u001b[0m\n\u001b[0;32m-> 3030\u001b[0;31m             \u001b[0mindexer\u001b[0m \u001b[0;34m=\u001b[0m \u001b[0mself\u001b[0m\u001b[0;34m.\u001b[0m\u001b[0mloc\u001b[0m\u001b[0;34m.\u001b[0m\u001b[0m_get_listlike_indexer\u001b[0m\u001b[0;34m(\u001b[0m\u001b[0mkey\u001b[0m\u001b[0;34m,\u001b[0m \u001b[0maxis\u001b[0m\u001b[0;34m=\u001b[0m\u001b[0;36m1\u001b[0m\u001b[0;34m,\u001b[0m \u001b[0mraise_missing\u001b[0m\u001b[0;34m=\u001b[0m\u001b[0;32mTrue\u001b[0m\u001b[0;34m)\u001b[0m\u001b[0;34m[\u001b[0m\u001b[0;36m1\u001b[0m\u001b[0;34m]\u001b[0m\u001b[0;34m\u001b[0m\u001b[0;34m\u001b[0m\u001b[0m\n\u001b[0m\u001b[1;32m   3031\u001b[0m \u001b[0;34m\u001b[0m\u001b[0m\n\u001b[1;32m   3032\u001b[0m         \u001b[0;31m# take() does not accept boolean indexers\u001b[0m\u001b[0;34m\u001b[0m\u001b[0;34m\u001b[0m\u001b[0;34m\u001b[0m\u001b[0m\n",
      "\u001b[0;32m~/opt/anaconda3/lib/python3.8/site-packages/pandas/core/indexing.py\u001b[0m in \u001b[0;36m_get_listlike_indexer\u001b[0;34m(self, key, axis, raise_missing)\u001b[0m\n\u001b[1;32m   1264\u001b[0m             \u001b[0mkeyarr\u001b[0m\u001b[0;34m,\u001b[0m \u001b[0mindexer\u001b[0m\u001b[0;34m,\u001b[0m \u001b[0mnew_indexer\u001b[0m \u001b[0;34m=\u001b[0m \u001b[0max\u001b[0m\u001b[0;34m.\u001b[0m\u001b[0m_reindex_non_unique\u001b[0m\u001b[0;34m(\u001b[0m\u001b[0mkeyarr\u001b[0m\u001b[0;34m)\u001b[0m\u001b[0;34m\u001b[0m\u001b[0;34m\u001b[0m\u001b[0m\n\u001b[1;32m   1265\u001b[0m \u001b[0;34m\u001b[0m\u001b[0m\n\u001b[0;32m-> 1266\u001b[0;31m         \u001b[0mself\u001b[0m\u001b[0;34m.\u001b[0m\u001b[0m_validate_read_indexer\u001b[0m\u001b[0;34m(\u001b[0m\u001b[0mkeyarr\u001b[0m\u001b[0;34m,\u001b[0m \u001b[0mindexer\u001b[0m\u001b[0;34m,\u001b[0m \u001b[0maxis\u001b[0m\u001b[0;34m,\u001b[0m \u001b[0mraise_missing\u001b[0m\u001b[0;34m=\u001b[0m\u001b[0mraise_missing\u001b[0m\u001b[0;34m)\u001b[0m\u001b[0;34m\u001b[0m\u001b[0;34m\u001b[0m\u001b[0m\n\u001b[0m\u001b[1;32m   1267\u001b[0m         \u001b[0;32mreturn\u001b[0m \u001b[0mkeyarr\u001b[0m\u001b[0;34m,\u001b[0m \u001b[0mindexer\u001b[0m\u001b[0;34m\u001b[0m\u001b[0;34m\u001b[0m\u001b[0m\n\u001b[1;32m   1268\u001b[0m \u001b[0;34m\u001b[0m\u001b[0m\n",
      "\u001b[0;32m~/opt/anaconda3/lib/python3.8/site-packages/pandas/core/indexing.py\u001b[0m in \u001b[0;36m_validate_read_indexer\u001b[0;34m(self, key, indexer, axis, raise_missing)\u001b[0m\n\u001b[1;32m   1314\u001b[0m             \u001b[0;32mif\u001b[0m \u001b[0mraise_missing\u001b[0m\u001b[0;34m:\u001b[0m\u001b[0;34m\u001b[0m\u001b[0;34m\u001b[0m\u001b[0m\n\u001b[1;32m   1315\u001b[0m                 \u001b[0mnot_found\u001b[0m \u001b[0;34m=\u001b[0m \u001b[0mlist\u001b[0m\u001b[0;34m(\u001b[0m\u001b[0mset\u001b[0m\u001b[0;34m(\u001b[0m\u001b[0mkey\u001b[0m\u001b[0;34m)\u001b[0m \u001b[0;34m-\u001b[0m \u001b[0mset\u001b[0m\u001b[0;34m(\u001b[0m\u001b[0max\u001b[0m\u001b[0;34m)\u001b[0m\u001b[0;34m)\u001b[0m\u001b[0;34m\u001b[0m\u001b[0;34m\u001b[0m\u001b[0m\n\u001b[0;32m-> 1316\u001b[0;31m                 \u001b[0;32mraise\u001b[0m \u001b[0mKeyError\u001b[0m\u001b[0;34m(\u001b[0m\u001b[0;34mf\"{not_found} not in index\"\u001b[0m\u001b[0;34m)\u001b[0m\u001b[0;34m\u001b[0m\u001b[0;34m\u001b[0m\u001b[0m\n\u001b[0m\u001b[1;32m   1317\u001b[0m \u001b[0;34m\u001b[0m\u001b[0m\n\u001b[1;32m   1318\u001b[0m             \u001b[0mnot_found\u001b[0m \u001b[0;34m=\u001b[0m \u001b[0mkey\u001b[0m\u001b[0;34m[\u001b[0m\u001b[0mmissing_mask\u001b[0m\u001b[0;34m]\u001b[0m\u001b[0;34m\u001b[0m\u001b[0;34m\u001b[0m\u001b[0m\n",
      "\u001b[0;31mKeyError\u001b[0m: \"['DESCRIPCION_POSITIVA', 'DESCRIPCION_ESTEREOTIPO_GENERAL', 'DESCRIPCION_NEGATIVA'] not in index\""
     ]
    }
   ],
   "source": [
    "datum =datos.sort_values(by=\"Fecha\",ascending=False)[[\"ID_NOTICIERO\",\"FECHA_TESTIGO\",\"TIPO_VALORACION\",\"CANDIDATO\",\"DURACION_MINUTOS\",\"DESCRIPCION_ESTEREOTIPO_GENERAL\",\"DESCRIPCION_POSITIVA\",\"DESCRIPCION_NEGATIVA\",\"DESCRIPCION_ENFOQUE\"]]\n",
    "\n",
    "datum.groupby(['ID_NOTICIERO', 'FECHA_TESTIGO', 'TIPO_VALORACION', 'CANDIDATO',\n",
    "        'DESCRIPCION_ESTEREOTIPO_GENERAL',\n",
    "       'DESCRIPCION_POSITIVA', 'DESCRIPCION_NEGATIVA', 'DESCRIPCION_ENFOQUE'],dropna=False).sum().reset_index().to_csv(\"datos_limpios/lista_medios.csv\",index=False)\n",
    "\n"
   ]
  },
  {
   "cell_type": "code",
   "execution_count": null,
   "id": "d41fd235",
   "metadata": {},
   "outputs": [],
   "source": [
    "datos[datos.ID_NOTICIERO==164]"
   ]
  },
  {
   "cell_type": "code",
   "execution_count": null,
   "id": "7c07113f",
   "metadata": {},
   "outputs": [],
   "source": [
    "datos.NOMBRE_LOCUTOR.value_counts()"
   ]
  },
  {
   "cell_type": "code",
   "execution_count": null,
   "id": "41a08f22",
   "metadata": {},
   "outputs": [],
   "source": [
    "datos[datos.ID_PIEZA_INFORMATIVA==35266].head().T"
   ]
  },
  {
   "cell_type": "code",
   "execution_count": null,
   "id": "4230015d",
   "metadata": {
    "scrolled": false
   },
   "outputs": [],
   "source": [
    "datos[\"DESCRIPCION_ESTEREOTIPO_VULNERABILIDAD\"].drop_duplicates().shape"
   ]
  },
  {
   "cell_type": "code",
   "execution_count": null,
   "id": "9da816c2",
   "metadata": {},
   "outputs": [],
   "source": [
    "datos[\"ESTEREOTIPO_GRUPO_DISCRIMINACION\"].drop_duplicates().value_counts()"
   ]
  },
  {
   "cell_type": "code",
   "execution_count": null,
   "id": "0b016d15",
   "metadata": {
    "scrolled": false
   },
   "outputs": [],
   "source": [
    "\n",
    "\n",
    "datos[(datos[\"DESCRIPCION_ESTEREOTIPO_VULNERABILIDAD\"].notna())|(datos[\"DESCRIPCIÓN PRESENCIA DE ESTEREOTIPOS\"].notna())][[\"DESCRIPCIÓN PRESENCIA DE ESTEREOTIPOS\",\"DESCRIPCION_ESTEREOTIPO_VULNERABILIDAD\"]].apply(lambda x : x.dropna().unique()[0],axis=1)\n",
    "\n",
    "\n",
    "\n",
    "\n",
    "\n"
   ]
  },
  {
   "cell_type": "code",
   "execution_count": null,
   "id": "528966a6",
   "metadata": {},
   "outputs": [],
   "source": [
    "\n",
    "datos.head().T"
   ]
  },
  {
   "cell_type": "code",
   "execution_count": null,
   "id": "0cda62c8",
   "metadata": {},
   "outputs": [],
   "source": [
    "\n",
    "datos[\"DESCRIPCION_ENFOQUE\"].unique().shape"
   ]
  },
  {
   "cell_type": "code",
   "execution_count": null,
   "id": "d24f1602",
   "metadata": {},
   "outputs": [],
   "source": [
    "datos[\"DESCRIPCION_ENFOQUE\"].unique()"
   ]
  },
  {
   "cell_type": "code",
   "execution_count": null,
   "id": "49d18c39",
   "metadata": {},
   "outputs": [],
   "source": [
    "datos[\"DESCRIPCION_ENFOQUE\"].unique().shape"
   ]
  },
  {
   "cell_type": "code",
   "execution_count": null,
   "id": "57ea68af",
   "metadata": {},
   "outputs": [],
   "source": [
    "datos.TIPO_VALORACION.value_counts()"
   ]
  },
  {
   "cell_type": "code",
   "execution_count": null,
   "id": "d9a135eb",
   "metadata": {},
   "outputs": [],
   "source": []
  },
  {
   "cell_type": "code",
   "execution_count": null,
   "id": "53c6c149",
   "metadata": {},
   "outputs": [],
   "source": []
  }
 ],
 "metadata": {
  "kernelspec": {
   "display_name": "Python 3",
   "language": "python",
   "name": "python3"
  },
  "language_info": {
   "codemirror_mode": {
    "name": "ipython",
    "version": 3
   },
   "file_extension": ".py",
   "mimetype": "text/x-python",
   "name": "python",
   "nbconvert_exporter": "python",
   "pygments_lexer": "ipython3",
   "version": "3.8.8"
  }
 },
 "nbformat": 4,
 "nbformat_minor": 5
}
